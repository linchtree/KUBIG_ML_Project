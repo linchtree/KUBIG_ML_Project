{
  "nbformat": 4,
  "nbformat_minor": 0,
  "metadata": {
    "colab": {
      "provenance": [],
      "machine_shape": "hm"
    },
    "kernelspec": {
      "name": "python3",
      "display_name": "Python 3"
    },
    "language_info": {
      "name": "python"
    },
    "accelerator": "GPU",
    "gpuClass": "premium"
  },
  "cells": [
    {
      "cell_type": "code",
      "execution_count": 55,
      "metadata": {
        "colab": {
          "base_uri": "https://localhost:8080/"
        },
        "id": "pMlsGUUoSJCw",
        "outputId": "d0d6dce4-032f-4e23-ea99-a15b6abd2cc3"
      },
      "outputs": [
        {
          "output_type": "stream",
          "name": "stdout",
          "text": [
            "Drive already mounted at /content/drive; to attempt to forcibly remount, call drive.mount(\"/content/drive\", force_remount=True).\n",
            "Archive:  drive/MyDrive/kubig_ML/235713_신용카드 사용자 연체 예측 AI 경진대회_data.zip\n",
            "replace open/train.csv? [y]es, [n]o, [A]ll, [N]one, [r]ename: n\n",
            "replace open/sample_submission.csv? [y]es, [n]o, [A]ll, [N]one, [r]ename: n\n",
            "replace open/test.csv? [y]es, [n]o, [A]ll, [N]one, [r]ename: n\n"
          ]
        }
      ],
      "source": [
        "import pandas as pd\n",
        "import numpy as np\n",
        "\n",
        "from google.colab import drive\n",
        "drive.mount('/content/drive')\n",
        "!unzip 'drive/MyDrive/kubig_ML/235713_신용카드 사용자 연체 예측 AI 경진대회_data.zip'\n",
        "\n",
        "train=pd.read_csv('open/train.csv')\n",
        "test=pd.read_csv('open/test.csv')"
      ]
    },
    {
      "cell_type": "markdown",
      "source": [
        "# 전처리 해본 것"
      ],
      "metadata": {
        "id": "ZtNftbE8gkVJ"
      }
    },
    {
      "cell_type": "code",
      "source": [
        "#완전히 중복되는 데이터 삭제\n",
        "train=train[~train.drop(columns=['credit','index','FLAG_MOBIL']).duplicated(keep='first')]\n",
        "\n",
        "# day_employed 양수값 0으로 변환\n",
        "train['DAYS_EMPLOYED'].loc[train['DAYS_EMPLOYED']>0]=0\n",
        "\n",
        "# occyp_type No job 및 Laborers로 채우기\n",
        "\n",
        "train['occyp_type'].loc[(train['DAYS_EMPLOYED']==0)&(train['occyp_type'].isna())]='No job'\n",
        "train['occyp_type']=train['occyp_type'].fillna('Laborers')\n",
        "\n",
        "\n",
        "# 성별 변수 인코딩\n",
        "train['gender']=train['gender'].replace(['M','F'],[1,0])\n",
        "train['car']=train['car'].replace(['Y','N'],[1,0])\n",
        "train['reality']=train['reality'].replace(['Y','N'],[1,0])\n",
        "\n",
        "train.drop(['index','FLAG_MOBIL'],axis=1,inplace=True)\n",
        "\n",
        "# 자녀유무 변수\n",
        "train['kids']=0\n",
        "train['kids'] = np.where(train['child_num'] !=0, 1, 0)\n",
        "train.drop(['child_num'],axis=1,inplace=True)\n",
        "\n",
        "\n",
        "# 인코딩 > ordinalencoder로 바꿈\n",
        "from sklearn.preprocessing import OrdinalEncoder\n",
        "cat=train.dtypes[train.dtypes==\"object\"].index.tolist()\n",
        "encoder = OrdinalEncoder()\n",
        "train[cat] = encoder.fit_transform(train[cat],train['credit'])\n",
        "\n",
        "\n",
        "# family_size outlier 삭제\n",
        "train=train[(train['family_size']<7)]\n",
        "train=train.reset_index(drop=True)\n",
        "\n",
        "\n",
        "# income_total, family_size 스케일링\n",
        "from sklearn.preprocessing import RobustScaler\n",
        "scaler3 = RobustScaler()\n",
        "scale=['income_total','family_size']\n",
        "train[scale] = scaler3.fit_transform(train[scale])\n",
        "test[scale] = scaler3.transform(test[scale])\n"
      ],
      "metadata": {
        "colab": {
          "base_uri": "https://localhost:8080/"
        },
        "id": "smkFEiGog7oQ",
        "outputId": "d6407086-b549-4bea-8847-6461120c21d0"
      },
      "execution_count": 56,
      "outputs": [
        {
          "output_type": "stream",
          "name": "stderr",
          "text": [
            "/usr/local/lib/python3.8/dist-packages/pandas/core/indexing.py:1732: SettingWithCopyWarning: \n",
            "A value is trying to be set on a copy of a slice from a DataFrame\n",
            "\n",
            "See the caveats in the documentation: https://pandas.pydata.org/pandas-docs/stable/user_guide/indexing.html#returning-a-view-versus-a-copy\n",
            "  self._setitem_single_block(indexer, value, name)\n",
            "<ipython-input-56-a5c80586e61f>:10: SettingWithCopyWarning: \n",
            "A value is trying to be set on a copy of a slice from a DataFrame.\n",
            "Try using .loc[row_indexer,col_indexer] = value instead\n",
            "\n",
            "See the caveats in the documentation: https://pandas.pydata.org/pandas-docs/stable/user_guide/indexing.html#returning-a-view-versus-a-copy\n",
            "  train['occyp_type']=train['occyp_type'].fillna('Laborers')\n",
            "<ipython-input-56-a5c80586e61f>:14: SettingWithCopyWarning: \n",
            "A value is trying to be set on a copy of a slice from a DataFrame.\n",
            "Try using .loc[row_indexer,col_indexer] = value instead\n",
            "\n",
            "See the caveats in the documentation: https://pandas.pydata.org/pandas-docs/stable/user_guide/indexing.html#returning-a-view-versus-a-copy\n",
            "  train['gender']=train['gender'].replace(['M','F'],[1,0])\n",
            "<ipython-input-56-a5c80586e61f>:15: SettingWithCopyWarning: \n",
            "A value is trying to be set on a copy of a slice from a DataFrame.\n",
            "Try using .loc[row_indexer,col_indexer] = value instead\n",
            "\n",
            "See the caveats in the documentation: https://pandas.pydata.org/pandas-docs/stable/user_guide/indexing.html#returning-a-view-versus-a-copy\n",
            "  train['car']=train['car'].replace(['Y','N'],[1,0])\n",
            "<ipython-input-56-a5c80586e61f>:16: SettingWithCopyWarning: \n",
            "A value is trying to be set on a copy of a slice from a DataFrame.\n",
            "Try using .loc[row_indexer,col_indexer] = value instead\n",
            "\n",
            "See the caveats in the documentation: https://pandas.pydata.org/pandas-docs/stable/user_guide/indexing.html#returning-a-view-versus-a-copy\n",
            "  train['reality']=train['reality'].replace(['Y','N'],[1,0])\n",
            "/usr/local/lib/python3.8/dist-packages/pandas/core/frame.py:4906: SettingWithCopyWarning: \n",
            "A value is trying to be set on a copy of a slice from a DataFrame\n",
            "\n",
            "See the caveats in the documentation: https://pandas.pydata.org/pandas-docs/stable/user_guide/indexing.html#returning-a-view-versus-a-copy\n",
            "  return super().drop(\n",
            "<ipython-input-56-a5c80586e61f>:21: SettingWithCopyWarning: \n",
            "A value is trying to be set on a copy of a slice from a DataFrame.\n",
            "Try using .loc[row_indexer,col_indexer] = value instead\n",
            "\n",
            "See the caveats in the documentation: https://pandas.pydata.org/pandas-docs/stable/user_guide/indexing.html#returning-a-view-versus-a-copy\n",
            "  train['kids']=0\n",
            "<ipython-input-56-a5c80586e61f>:22: SettingWithCopyWarning: \n",
            "A value is trying to be set on a copy of a slice from a DataFrame.\n",
            "Try using .loc[row_indexer,col_indexer] = value instead\n",
            "\n",
            "See the caveats in the documentation: https://pandas.pydata.org/pandas-docs/stable/user_guide/indexing.html#returning-a-view-versus-a-copy\n",
            "  train['kids'] = np.where(train['child_num'] !=0, 1, 0)\n",
            "/usr/local/lib/python3.8/dist-packages/pandas/core/frame.py:3678: SettingWithCopyWarning: \n",
            "A value is trying to be set on a copy of a slice from a DataFrame.\n",
            "Try using .loc[row_indexer,col_indexer] = value instead\n",
            "\n",
            "See the caveats in the documentation: https://pandas.pydata.org/pandas-docs/stable/user_guide/indexing.html#returning-a-view-versus-a-copy\n",
            "  self[col] = igetitem(value, i)\n"
          ]
        }
      ]
    },
    {
      "cell_type": "markdown",
      "source": [
        "# Test 제출용"
      ],
      "metadata": {
        "id": "JzXsEnDHnc4B"
      }
    },
    {
      "cell_type": "markdown",
      "source": [
        "## test 전처리"
      ],
      "metadata": {
        "id": "ElGko-UCFUYM"
      }
    },
    {
      "cell_type": "code",
      "source": [
        "# 'DAYS_EMPLOYED' 365243->0\n",
        "test['DAYS_EMPLOYED'].loc[test['DAYS_EMPLOYED']>0]=0\n",
        "\n",
        "# 'occyp_type' No job 추가, Laborers로 결측치 채우기\n",
        "test['occyp_type'].loc[(test['DAYS_EMPLOYED']==0)&(test['occyp_type'].isna())]='No job'\n",
        "test['occyp_type']=test['occyp_type'].fillna('Laborers')\n",
        "\n",
        "# categorical 변수 ordinal encoding\n",
        "test[cat]=encoder.transform(test[cat])\n",
        "\n",
        "# 'gender','car','reality' 0,1로 encoding\n",
        "test['gender']=test['gender'].replace(['M','F'],[1,0])\n",
        "test['car']=test['car'].replace(['Y','N'],[1,0])\n",
        "test['reality']=test['reality'].replace(['Y','N'],[1,0])\n",
        "\n",
        "index=test['index'] # 나중에 index 쓸 것이라서 저장\n",
        "\n",
        "#'FLAG_MOBIL','index' drop\n",
        "test.drop(['index','FLAG_MOBIL'],axis=1,inplace=True)\n",
        "\n",
        "# 자식 유무 변수 'kids' 추가 후 'child_num' drop\n",
        "test['kids']=0\n",
        "test['kids'] = np.where(test['child_num'] !=0, 1, 0)\n",
        "test.drop(['child_num'],axis=1,inplace=True)\n",
        "\n"
      ],
      "metadata": {
        "colab": {
          "base_uri": "https://localhost:8080/"
        },
        "id": "PacY4irWnZug",
        "outputId": "36f3bae4-1bc3-4291-d873-9d06d5a97452"
      },
      "execution_count": 57,
      "outputs": [
        {
          "output_type": "stream",
          "name": "stderr",
          "text": [
            "/usr/local/lib/python3.8/dist-packages/pandas/core/indexing.py:1732: SettingWithCopyWarning: \n",
            "A value is trying to be set on a copy of a slice from a DataFrame\n",
            "\n",
            "See the caveats in the documentation: https://pandas.pydata.org/pandas-docs/stable/user_guide/indexing.html#returning-a-view-versus-a-copy\n",
            "  self._setitem_single_block(indexer, value, name)\n"
          ]
        }
      ]
    },
    {
      "cell_type": "code",
      "source": [
        "# train data X,y 만들어주기\n",
        "X_train=train.drop(columns='credit')\n",
        "y_train=train['credit']"
      ],
      "metadata": {
        "id": "xShNAj2DCAvs"
      },
      "execution_count": 58,
      "outputs": []
    },
    {
      "cell_type": "code",
      "source": [
        "from lightgbm import LGBMClassifier\n",
        "model_lgbc = LGBMClassifier(n_estimators=450, max_depth=10,\n",
        "                            colsample_bytree=1, min_child_weight=3, subsample=0.001, \n",
        "                            random_state=2)\n",
        "model_lgbc.fit(X_train, y_train)\n",
        "\n",
        "y_pred=model_lgbc.predict_proba(test)"
      ],
      "metadata": {
        "id": "r0rGjJ5XomUl"
      },
      "execution_count": 59,
      "outputs": []
    },
    {
      "cell_type": "code",
      "source": [
        "y_pred"
      ],
      "metadata": {
        "colab": {
          "base_uri": "https://localhost:8080/"
        },
        "id": "toGWk5E2BggP",
        "outputId": "0d237a58-3091-4492-c62a-43b8e32fcc37"
      },
      "execution_count": 60,
      "outputs": [
        {
          "output_type": "execute_result",
          "data": {
            "text/plain": [
              "array([[0.03558961, 0.08121589, 0.88319449],\n",
              "       [0.25951836, 0.19281805, 0.54766359],\n",
              "       [0.03998946, 0.03867854, 0.921332  ],\n",
              "       ...,\n",
              "       [0.02888461, 0.10373668, 0.8673787 ],\n",
              "       [0.1630319 , 0.15581805, 0.68115005],\n",
              "       [0.02850407, 0.2592793 , 0.71221663]])"
            ]
          },
          "metadata": {},
          "execution_count": 60
        }
      ]
    },
    {
      "cell_type": "code",
      "source": [
        "y_pred_df=pd.DataFrame(y_pred)"
      ],
      "metadata": {
        "id": "omkz6y3OGgrQ"
      },
      "execution_count": 62,
      "outputs": []
    },
    {
      "cell_type": "code",
      "source": [
        "y_pred_df=pd.concat([index,y_pred_df],axis=1)\n",
        "y_pred_df.to_csv('base_submission.csv',index = False)"
      ],
      "metadata": {
        "id": "fBRjbNPV8kFL"
      },
      "execution_count": 63,
      "outputs": []
    }
  ]
}