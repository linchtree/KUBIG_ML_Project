{
 "cells": [
  {
   "cell_type": "code",
   "execution_count": 32,
   "metadata": {},
   "outputs": [],
   "source": [
    "import pandas as pd\n",
    "import numpy as np\n",
    "import seaborn as sns\n",
    "import matplotlib.pyplot as plt"
   ]
  },
  {
   "cell_type": "code",
   "execution_count": 33,
   "metadata": {},
   "outputs": [],
   "source": [
    "train=pd.read_csv(\"C:/Users/강민채/Desktop/KUBIG/ML/Team/data/train.csv\")\n",
    "test=pd.read_csv(\"C:/Users/강민채/Desktop/KUBIG/ML/Team/data/test.csv\")"
   ]
  },
  {
   "attachments": {},
   "cell_type": "markdown",
   "metadata": {},
   "source": [
    "중복데이터 삭제"
   ]
  },
  {
   "cell_type": "code",
   "execution_count": 34,
   "metadata": {},
   "outputs": [],
   "source": [
    "#완전히 중복되는 데이터 삭제\n",
    "train=train[~train.drop(columns=['credit','index','FLAG_MOBIL']).duplicated(keep='first')]"
   ]
  },
  {
   "cell_type": "code",
   "execution_count": 35,
   "metadata": {},
   "outputs": [],
   "source": [
    "# day_employed 양수값 0으로 변환\n",
    "train['DAYS_EMPLOYED'].loc[train['DAYS_EMPLOYED']>0]=0"
   ]
  },
  {
   "cell_type": "code",
   "execution_count": 36,
   "metadata": {},
   "outputs": [],
   "source": [
    "# occyp_type (1)\n",
    "employed_nojob=train[(train['DAYS_EMPLOYED']>=0)&(train['occyp_type'].isna()==True)]     #8171 중 4438개가 No job\n",
    "employed_na=train[(train['DAYS_EMPLOYED']<0)&(train['occyp_type'].isna()==True)] \n",
    "employed_data=train.dropna()"
   ]
  },
  {
   "cell_type": "code",
   "execution_count": 37,
   "metadata": {},
   "outputs": [
    {
     "name": "stderr",
     "output_type": "stream",
     "text": [
      "C:\\Users\\강민채\\AppData\\Local\\Temp\\ipykernel_5788\\3641538235.py:1: SettingWithCopyWarning: \n",
      "A value is trying to be set on a copy of a slice from a DataFrame.\n",
      "Try using .loc[row_indexer,col_indexer] = value instead\n",
      "\n",
      "See the caveats in the documentation: https://pandas.pydata.org/pandas-docs/stable/user_guide/indexing.html#returning-a-view-versus-a-copy\n",
      "  employed_nojob.fillna({'occyp_type':'No job'},inplace=True)\n"
     ]
    }
   ],
   "source": [
    "employed_nojob.fillna({'occyp_type':'No job'},inplace=True)\n",
    "train=pd.concat([employed_na,employed_nojob,employed_data])"
   ]
  },
  {
   "attachments": {},
   "cell_type": "markdown",
   "metadata": {},
   "source": [
    ">> 남은 occyp_type 결측치는 >> 최빈값/unknown"
   ]
  },
  {
   "cell_type": "code",
   "execution_count": 38,
   "metadata": {},
   "outputs": [],
   "source": [
    "# 최빈값으로 대체\n",
    "from sklearn.impute import SimpleImputer\n",
    "imp=SimpleImputer(missing_values=np.nan, strategy='most_frequent')\n",
    "train_df_3=pd.DataFrame(imp.fit_transform(train), columns=train.columns,index=train.index)"
   ]
  },
  {
   "cell_type": "code",
   "execution_count": 39,
   "metadata": {},
   "outputs": [],
   "source": [
    "# 성별 변수 인코딩\n",
    "train['gender']=train['gender'].replace(['M','F'],[1,0])\n",
    "train['car']=train['car'].replace(['Y','N'],[1,0])\n",
    "train['reality']=train['reality'].replace(['Y','N'],[1,0])"
   ]
  },
  {
   "cell_type": "code",
   "execution_count": 40,
   "metadata": {},
   "outputs": [],
   "source": [
    "train.drop(['index','FLAG_MOBIL'],axis=1,inplace=True)"
   ]
  },
  {
   "cell_type": "code",
   "execution_count": 41,
   "metadata": {},
   "outputs": [],
   "source": [
    "# 자녀유무 변수\n",
    "train['kids']=0\n",
    "train['kids'] = np.where(train['child_num'] !=0, 1, 0)\n",
    "train.drop(['child_num'],axis=1,inplace=True)"
   ]
  },
  {
   "cell_type": "code",
   "execution_count": 42,
   "metadata": {},
   "outputs": [],
   "source": [
    "# 라벨 인코딩\n",
    "from sklearn.preprocessing import LabelEncoder\n",
    "encoder = LabelEncoder()\n",
    "train['income_type'] = encoder.fit_transform(train['income_type'])\n",
    "test['income_type']=encoder.transform(test['income_type'])"
   ]
  },
  {
   "cell_type": "code",
   "execution_count": 43,
   "metadata": {},
   "outputs": [],
   "source": [
    "train['family_type'] = encoder.fit_transform(train['family_type'])\n",
    "test['family_type']=encoder.transform(test['family_type'])"
   ]
  },
  {
   "cell_type": "code",
   "execution_count": 44,
   "metadata": {},
   "outputs": [],
   "source": [
    "train['edu_type'] = encoder.fit_transform(train['edu_type'])\n",
    "test['edu_type']=encoder.transform(test['edu_type'])"
   ]
  },
  {
   "cell_type": "code",
   "execution_count": 45,
   "metadata": {},
   "outputs": [],
   "source": [
    "train['house_type'] = encoder.fit_transform(train['house_type'])\n",
    "test['house_type']=encoder.transform(test['house_type'])"
   ]
  },
  {
   "cell_type": "code",
   "execution_count": 46,
   "metadata": {},
   "outputs": [],
   "source": [
    "train['occyp_type'] = encoder.fit_transform(train['occyp_type'])\n",
    "test['occyp_type']=encoder.transform(test['occyp_type'])"
   ]
  },
  {
   "cell_type": "code",
   "execution_count": null,
   "metadata": {},
   "outputs": [],
   "source": []
  }
 ],
 "metadata": {
  "kernelspec": {
   "display_name": "Python 3",
   "language": "python",
   "name": "python3"
  },
  "language_info": {
   "codemirror_mode": {
    "name": "ipython",
    "version": 3
   },
   "file_extension": ".py",
   "mimetype": "text/x-python",
   "name": "python",
   "nbconvert_exporter": "python",
   "pygments_lexer": "ipython3",
   "version": "3.10.2"
  },
  "orig_nbformat": 4,
  "vscode": {
   "interpreter": {
    "hash": "369f2c481f4da34e4445cda3fffd2e751bd1c4d706f27375911949ba6bb62e1c"
   }
  }
 },
 "nbformat": 4,
 "nbformat_minor": 2
}
