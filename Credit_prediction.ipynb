{
 "cells": [
  {
   "cell_type": "code",
   "execution_count": 1,
   "metadata": {},
   "outputs": [],
   "source": [
    "import pandas as pd\n",
    "import numpy as np\n",
    "import seaborn as sns\n",
    "import matplotlib.pyplot as plt"
   ]
  },
  {
   "cell_type": "code",
   "execution_count": 2,
   "metadata": {},
   "outputs": [],
   "source": [
    "train_df=pd.read_csv(\"C:/Users/강민채/Desktop/KUBIG/ML/Team/data/train.csv\")\n",
    "test_df=pd.read_csv(\"C:/Users/강민채/Desktop/KUBIG/ML/Team/data/test.csv\")"
   ]
  },
  {
   "attachments": {},
   "cell_type": "markdown",
   "metadata": {},
   "source": [
    "# 0. EDA"
   ]
  },
  {
   "cell_type": "code",
   "execution_count": null,
   "metadata": {},
   "outputs": [],
   "source": [
    "train_df.head()"
   ]
  },
  {
   "cell_type": "code",
   "execution_count": 34,
   "metadata": {},
   "outputs": [
    {
     "name": "stdout",
     "output_type": "stream",
     "text": [
      "<class 'pandas.core.frame.DataFrame'>\n",
      "RangeIndex: 26457 entries, 0 to 26456\n",
      "Data columns (total 20 columns):\n",
      " #   Column         Non-Null Count  Dtype  \n",
      "---  ------         --------------  -----  \n",
      " 0   index          26457 non-null  int64  \n",
      " 1   gender         26457 non-null  object \n",
      " 2   car            26457 non-null  object \n",
      " 3   reality        26457 non-null  object \n",
      " 4   child_num      26457 non-null  int64  \n",
      " 5   income_total   26457 non-null  float64\n",
      " 6   income_type    26457 non-null  object \n",
      " 7   edu_type       26457 non-null  object \n",
      " 8   family_type    26457 non-null  object \n",
      " 9   house_type     26457 non-null  object \n",
      " 10  DAYS_BIRTH     26457 non-null  int64  \n",
      " 11  DAYS_EMPLOYED  26457 non-null  int64  \n",
      " 12  FLAG_MOBIL     26457 non-null  int64  \n",
      " 13  work_phone     26457 non-null  int64  \n",
      " 14  phone          26457 non-null  int64  \n",
      " 15  email          26457 non-null  int64  \n",
      " 16  occyp_type     18286 non-null  object \n",
      " 17  family_size    26457 non-null  float64\n",
      " 18  begin_month    26457 non-null  float64\n",
      " 19  credit         26457 non-null  float64\n",
      "dtypes: float64(4), int64(8), object(8)\n",
      "memory usage: 4.0+ MB\n"
     ]
    }
   ],
   "source": [
    "train_df.info()"
   ]
  },
  {
   "cell_type": "code",
   "execution_count": null,
   "metadata": {},
   "outputs": [],
   "source": [
    "train_df.isnull().sum()"
   ]
  },
  {
   "cell_type": "code",
   "execution_count": null,
   "metadata": {},
   "outputs": [],
   "source": [
    "test_df.isnull().sum()"
   ]
  },
  {
   "cell_type": "code",
   "execution_count": null,
   "metadata": {},
   "outputs": [],
   "source": [
    "#신용등급 분포 확인\n",
    "sns.countplot('credit',data=train_df)\n",
    "plt.show()\n",
    "\n",
    "#숫자가 작을수록 높은 신용 등급. 가장 낮은 등급에 속하는 사람이 가장 많음."
   ]
  },
  {
   "cell_type": "code",
   "execution_count": null,
   "metadata": {},
   "outputs": [],
   "source": [
    "#credit 별 성별 분포 확인\n",
    "sns.countplot('credit',hue='gender',data=train_df)\n",
    "plt.show()"
   ]
  },
  {
   "cell_type": "code",
   "execution_count": null,
   "metadata": {},
   "outputs": [],
   "source": [
    "#credit별 부동산 소유 여부\n",
    "sns.countplot('credit',hue='reality',data=train_df)\n",
    "plt.show()"
   ]
  },
  {
   "cell_type": "code",
   "execution_count": null,
   "metadata": {},
   "outputs": [],
   "source": [
    "#credit별 income_type\n",
    "sns.countplot('credit',hue='income_type',data=train_df)\n",
    "plt.show()"
   ]
  },
  {
   "cell_type": "code",
   "execution_count": null,
   "metadata": {},
   "outputs": [],
   "source": [
    "#credit별 edu_type 비교\n",
    "sns.countplot('credit',hue='edu_type',data=train_df)\n",
    "plt.show()"
   ]
  },
  {
   "cell_type": "code",
   "execution_count": null,
   "metadata": {},
   "outputs": [],
   "source": [
    "#credit별 수치형 변수들 평균 비교\n",
    "train_df.groupby('credit').mean()"
   ]
  },
  {
   "cell_type": "code",
   "execution_count": null,
   "metadata": {},
   "outputs": [],
   "source": [
    "#credit별 수치형 변수들 최댓값 비교\n",
    "train_df.groupby('credit').max()"
   ]
  },
  {
   "cell_type": "code",
   "execution_count": null,
   "metadata": {},
   "outputs": [],
   "source": [
    "# credit 별 income_total 분포\n",
    "sns.boxplot(x='credit',y='income_total',data=train_df)"
   ]
  },
  {
   "cell_type": "code",
   "execution_count": null,
   "metadata": {},
   "outputs": [],
   "source": [
    "# 신용 등급에 따른 타 변수들의 분포에는 큰 차이가 없는 듯 함."
   ]
  },
  {
   "cell_type": "code",
   "execution_count": null,
   "metadata": {},
   "outputs": [],
   "source": [
    "train_df['occyp_type'].value_counts()"
   ]
  },
  {
   "attachments": {},
   "cell_type": "markdown",
   "metadata": {},
   "source": [
    "# 1. 전처리"
   ]
  },
  {
   "attachments": {},
   "cell_type": "markdown",
   "metadata": {},
   "source": [
    "결측치 처리"
   ]
  },
  {
   "cell_type": "code",
   "execution_count": null,
   "metadata": {},
   "outputs": [],
   "source": [
    "train_df['occyp_type'].isna().sum()"
   ]
  },
  {
   "cell_type": "code",
   "execution_count": 3,
   "metadata": {},
   "outputs": [],
   "source": [
    "# occyp_type 결측치 처리\n",
    "# DAYS_EMPLOYED가 0 이거나 양수이면 실제 무직이니까 No job으로 처리.\n",
    "employed_nojob=train_df[(train_df['DAYS_EMPLOYED']>=0)&(train_df['occyp_type'].isna()==True)]     #8171 중 4438개가 No job\n",
    "employed_na=train_df[(train_df['DAYS_EMPLOYED']<0)&(train_df['occyp_type'].isna()==True)] \n",
    "employed_data=train_df.dropna()"
   ]
  },
  {
   "cell_type": "code",
   "execution_count": 4,
   "metadata": {},
   "outputs": [
    {
     "name": "stderr",
     "output_type": "stream",
     "text": [
      "C:\\Users\\강민채\\AppData\\Local\\Temp\\ipykernel_8360\\646914387.py:1: SettingWithCopyWarning: \n",
      "A value is trying to be set on a copy of a slice from a DataFrame.\n",
      "Try using .loc[row_indexer,col_indexer] = value instead\n",
      "\n",
      "See the caveats in the documentation: https://pandas.pydata.org/pandas-docs/stable/user_guide/indexing.html#returning-a-view-versus-a-copy\n",
      "  employed_nojob.fillna({'occyp_type':'No job'},inplace=True)\n"
     ]
    }
   ],
   "source": [
    "employed_nojob.fillna({'occyp_type':'No job'},inplace=True)"
   ]
  },
  {
   "cell_type": "code",
   "execution_count": 5,
   "metadata": {},
   "outputs": [],
   "source": [
    "train_df_2=pd.concat([employed_na,employed_nojob,employed_data])"
   ]
  },
  {
   "cell_type": "code",
   "execution_count": null,
   "metadata": {},
   "outputs": [],
   "source": [
    "train_df_2.info()    # occyp_type 결측치가 3733개로 줄었음."
   ]
  },
  {
   "cell_type": "code",
   "execution_count": null,
   "metadata": {},
   "outputs": [],
   "source": [
    "train_df_2['occyp_type'].isna().sum()"
   ]
  },
  {
   "attachments": {},
   "cell_type": "markdown",
   "metadata": {},
   "source": [
    ">> 남은 occyp_type 결측치는 어떻게 처리할지?/대체할 방법...  > 그냥 제거/보간(최빈값)"
   ]
  },
  {
   "cell_type": "code",
   "execution_count": 6,
   "metadata": {},
   "outputs": [],
   "source": [
    "# 최빈값\n",
    "from sklearn.impute import SimpleImputer\n",
    "imp=SimpleImputer(missing_values=np.nan, strategy='most_frequent')\n",
    "train_df_3=pd.DataFrame(imp.fit_transform(train_df_2), columns=train_df_2.columns,index=train_df_2.index)\n",
    "\n",
    "# laborers로 대체됨 >>> train_df_3"
   ]
  },
  {
   "cell_type": "code",
   "execution_count": null,
   "metadata": {},
   "outputs": [],
   "source": [
    "# 제거\n",
    "# train_df_2.dropna(inplace=True)   #제거 후 전체 데이터 22724개로 줄어듦."
   ]
  },
  {
   "attachments": {},
   "cell_type": "markdown",
   "metadata": {},
   "source": [
    "이상치 처리"
   ]
  },
  {
   "cell_type": "code",
   "execution_count": null,
   "metadata": {},
   "outputs": [],
   "source": [
    "# Outlier 처리\n",
    "train_df_2.boxplot('family_size')  \n",
    "\n",
    "#수치형 변수들 각각 box plot 그려보면, 조정 필요한 건 child num, income_total, family_size"
   ]
  },
  {
   "cell_type": "code",
   "execution_count": null,
   "metadata": {},
   "outputs": [],
   "source": [
    "p1 = train_df_2['child_num'].quantile(0.99)\n",
    "p2 = train_df_2['child_num'].quantile(0.001)\n",
    "train_df_3 = train_df_2[(train_df_2['child_num'] < p1) & (train_df_2['child_num'] > p2)]"
   ]
  },
  {
   "cell_type": "code",
   "execution_count": null,
   "metadata": {},
   "outputs": [],
   "source": [
    "p3 = train_df_2['income_total'].quantile(0.99)\n",
    "p4 = train_df_2['income_total'].quantile(0.001)\n",
    "train_df_3 = train_df_2[(train_df_2['income_total'] < p3) & (train_df_2['income_total'] > p4)]"
   ]
  },
  {
   "cell_type": "code",
   "execution_count": null,
   "metadata": {},
   "outputs": [],
   "source": [
    "p5 = train_df_2['family_size'].quantile(0.99)\n",
    "p6 = train_df_2['family_size'].quantile(0.001)\n",
    "train_df_3 = train_df_2[(train_df_2['family_size'] < p5) & (train_df_2['family_size'] > p6)]"
   ]
  },
  {
   "cell_type": "code",
   "execution_count": null,
   "metadata": {},
   "outputs": [],
   "source": [
    "# 이상치 제거 후 17944개로 데이터 줄어듦."
   ]
  },
  {
   "attachments": {},
   "cell_type": "markdown",
   "metadata": {},
   "source": [
    "음수값 자료들에서 결측치(양수값) 처리"
   ]
  },
  {
   "cell_type": "code",
   "execution_count": null,
   "metadata": {},
   "outputs": [],
   "source": [
    "# DAYS_BIRTH\n",
    "train_df_3['DAYS_BIRTH'].describe()     #모두 음수값"
   ]
  },
  {
   "cell_type": "code",
   "execution_count": null,
   "metadata": {},
   "outputs": [],
   "source": [
    "# DAYS_EMPLOYED \n",
    "train_df_3['DAYS_EMPLOYED'].describe()    #양수값이 있음. 0으로 바꿔줘야 함."
   ]
  },
  {
   "cell_type": "code",
   "execution_count": null,
   "metadata": {},
   "outputs": [],
   "source": [
    "train_df_3['DAYS_EMPLOYED'].loc[train_df_3['DAYS_EMPLOYED']>0]=0"
   ]
  },
  {
   "cell_type": "code",
   "execution_count": null,
   "metadata": {},
   "outputs": [],
   "source": [
    "# begin_month\n",
    "train_df_3['begin_month'].value_counts()     #모두 0 이하."
   ]
  },
  {
   "attachments": {},
   "cell_type": "markdown",
   "metadata": {},
   "source": [
    ">세 변수에서 값이 0인 것들 각각 어떻게 처리할지.. / days_employed는 0이면 무직 / 나머지 두 변수는 0이면 결측치."
   ]
  },
  {
   "attachments": {},
   "cell_type": "markdown",
   "metadata": {},
   "source": [
    "결측치 처리 했으니, 음수값 변수들 양수로 변환"
   ]
  },
  {
   "cell_type": "code",
   "execution_count": null,
   "metadata": {},
   "outputs": [],
   "source": [
    "train_df_3[\"DAYS_EMPLOYED\"] = np.abs(train_df_3[\"DAYS_EMPLOYED\"])\n",
    "\n",
    "train_df_3[\"DAYS_BIRTH\"] = np.abs(train_df_3[\"DAYS_BIRTH\"])\n",
    "\n",
    "train_df_3[\"begin_month\"] = np.abs(train_df_3[\"begin_month\"]).astype(int)"
   ]
  },
  {
   "cell_type": "code",
   "execution_count": null,
   "metadata": {},
   "outputs": [],
   "source": [
    "train_df_3.head()"
   ]
  },
  {
   "attachments": {},
   "cell_type": "markdown",
   "metadata": {},
   "source": [
    ">파생변수 생성"
   ]
  },
  {
   "attachments": {},
   "cell_type": "markdown",
   "metadata": {},
   "source": [
    "날짜 관련 변수들 단위 조정(파생변수)"
   ]
  },
  {
   "cell_type": "code",
   "execution_count": null,
   "metadata": {},
   "outputs": [],
   "source": [
    "# 날짜 관련 변수(birth, employed) 단위 조정. \n",
    "# 일 데이터 > 월/주 파생 변수 생성\n",
    "\n",
    "# DAYS_BIRTH 월/주 파생변수 생성 >> 후에 이 파생변수와 다중공선성을 보이는 변수 제거해야 함.\n",
    "train_df_3[\"DAYS_BIRTH_month\"] = np.floor(train_df_3[\"DAYS_BIRTH\"] / 30) - ((np.floor(train_df_3[\"DAYS_BIRTH\"] / 30) / 12).astype(int) * 12)\n",
    "train_df_3[\"DAYS_BIRTH_month\"] = train_df_3[\"DAYS_BIRTH_month\"].astype(int)\n",
    "train_df_3[\"DAYS_BIRTH_week\"] = np.floor(train_df_3[\"DAYS_BIRTH\"] / 7) - ((np.floor(train_df_3[\"DAYS_BIRTH\"] / 7) / 4).astype(int) * 4)\n",
    "train_df_3[\"DAYS_BIRTH_week\"] = train_df_3[\"DAYS_BIRTH_week\"].astype(int)"
   ]
  },
  {
   "cell_type": "code",
   "execution_count": null,
   "metadata": {},
   "outputs": [],
   "source": [
    "train_df_3.head()"
   ]
  },
  {
   "cell_type": "code",
   "execution_count": null,
   "metadata": {},
   "outputs": [],
   "source": [
    "# 나이 변수 생성\n",
    "train_df_3[\"Age\"] = train_df_3[\"DAYS_BIRTH\"] // 365"
   ]
  },
  {
   "cell_type": "code",
   "execution_count": null,
   "metadata": {},
   "outputs": [],
   "source": [
    "# DAYS_EMPLOYED의 월/주 변수 생성\n",
    "train_df_3[\"DAYS_EMPLOYED_month\"] = np.floor(train_df_3[\"DAYS_EMPLOYED\"] / 30) - ((np.floor(train_df_3[\"DAYS_EMPLOYED\"] / 30) / 12).astype(int) * 12)\n",
    "train_df_3[\"DAYS_EMPLOYED_month\"] = train_df_3[\"DAYS_EMPLOYED_month\"].astype(int)\n",
    "train_df_3[\"DAYS_EMPLOYED_week\"] = np.floor(train_df_3[\"DAYS_EMPLOYED\"] / 7) - ((np.floor(train_df_3[\"DAYS_EMPLOYED\"] / 7) / 4).astype(int) * 4)\n",
    "train_df_3[\"DAYS_EMPLOYED_week\"] = train_df_3[\"DAYS_EMPLOYED_week\"].astype(int)"
   ]
  },
  {
   "attachments": {},
   "cell_type": "markdown",
   "metadata": {},
   "source": [
    "중복데이터 식별용 파생변수 생성"
   ]
  },
  {
   "cell_type": "code",
   "execution_count": null,
   "metadata": {},
   "outputs": [],
   "source": [
    "# ID 변수 생성\n",
    "train_df_3['ID'] = \\\n",
    "train_df_3['child_num'].astype(str) + '_' + train_df_3['income_total'].astype(str) + '_' +\\\n",
    "train_df_3['DAYS_BIRTH'].astype(str) + '_' + train_df_3['DAYS_EMPLOYED'].astype(str) + '_' +\\\n",
    "train_df_3['work_phone'].astype(str) + '_' + train_df_3['phone'].astype(str) + '_' +\\\n",
    "train_df_3['email'].astype(str) + '_' + train_df_3['family_size'].astype(str) + '_' +\\\n",
    "train_df_3['gender'].astype(str) + '_' + train_df_3['car'].astype(str) + '_' +\\\n",
    "train_df_3['reality'].astype(str) + '_' + train_df_3['income_type'].astype(str) + '_' +\\\n",
    "train_df_3['edu_type'].astype(str) + '_' + train_df_3['family_type'].astype(str) + '_' +\\\n",
    "train_df_3['house_type'].astype(str) + '_' + train_df_3['occyp_type'].astype(str)"
   ]
  },
  {
   "cell_type": "code",
   "execution_count": null,
   "metadata": {},
   "outputs": [],
   "source": [
    "train_df_3['ID'].value_counts()   #한 사람이 24개 만드는 등 중복 데이터 식별 가능해짐."
   ]
  },
  {
   "attachments": {},
   "cell_type": "markdown",
   "metadata": {},
   "source": [
    "불필요 변수 제거"
   ]
  },
  {
   "cell_type": "code",
   "execution_count": null,
   "metadata": {},
   "outputs": [],
   "source": [
    "noneed=['index','FLAG_MOBIL']\n",
    "train_df_3.drop(noneed,axis=1,inplace=True)"
   ]
  },
  {
   "attachments": {},
   "cell_type": "markdown",
   "metadata": {},
   "source": [
    "child_num 변수 drop + 자녀유무 변수 생성"
   ]
  },
  {
   "cell_type": "code",
   "execution_count": 38,
   "metadata": {},
   "outputs": [],
   "source": [
    "train_df_2['kids']=0"
   ]
  },
  {
   "cell_type": "code",
   "execution_count": 42,
   "metadata": {},
   "outputs": [],
   "source": [
    "train_df_2['kids'] = np.where(train_df_2['child_num'] !=0, 1, 0)"
   ]
  },
  {
   "cell_type": "code",
   "execution_count": 46,
   "metadata": {},
   "outputs": [],
   "source": [
    "train_df_2.drop(['child_num'],axis=1,inplace=True)"
   ]
  },
  {
   "attachments": {},
   "cell_type": "markdown",
   "metadata": {},
   "source": [
    "family_size 큰 값들 따로 묶기"
   ]
  },
  {
   "cell_type": "code",
   "execution_count": 48,
   "metadata": {},
   "outputs": [
    {
     "data": {
      "text/plain": [
       "2.0     14106\n",
       "1.0      5109\n",
       "3.0      4632\n",
       "4.0      2260\n",
       "5.0       291\n",
       "6.0        44\n",
       "7.0         9\n",
       "15.0        3\n",
       "9.0         2\n",
       "20.0        1\n",
       "Name: family_size, dtype: int64"
      ]
     },
     "execution_count": 48,
     "metadata": {},
     "output_type": "execute_result"
    }
   ],
   "source": [
    "# 기준?\n",
    "train_df_2['family_size'].value_counts()   # 7 이상?"
   ]
  },
  {
   "cell_type": "code",
   "execution_count": 49,
   "metadata": {},
   "outputs": [],
   "source": [
    "train_df_2['big_family']=0\n",
    "train_df_2['big_family']=np.where(train_df_2['family_size']>=7, 1, 0)"
   ]
  },
  {
   "cell_type": "code",
   "execution_count": null,
   "metadata": {},
   "outputs": [],
   "source": [
    "# train_df_2.drop(['family_size'],axis=1,inplace=True)"
   ]
  },
  {
   "attachments": {},
   "cell_type": "markdown",
   "metadata": {},
   "source": [
    "범주형 변수 수치화"
   ]
  },
  {
   "cell_type": "code",
   "execution_count": null,
   "metadata": {},
   "outputs": [],
   "source": [
    "# 범주형 변수 인코딩 - 다중공선성 여부 고려\n",
    "from sklearn.preprocessing import OrdinalEncoder\n",
    "cat=train_df_3.dtypes[train_df_3.dtypes == \"object\"].index.tolist()"
   ]
  },
  {
   "cell_type": "code",
   "execution_count": null,
   "metadata": {},
   "outputs": [],
   "source": [
    "encoder = OrdinalEncoder()\n",
    "train_df_3[cat] = encoder.fit_transform(train_df_3[cat], train_df_3['credit'])"
   ]
  },
  {
   "cell_type": "code",
   "execution_count": null,
   "metadata": {},
   "outputs": [],
   "source": [
    "train_df_3['ID'] = train_df_3['ID'].astype('int64')"
   ]
  },
  {
   "attachments": {},
   "cell_type": "markdown",
   "metadata": {},
   "source": [
    "수치형 자료 표준화/정규화"
   ]
  },
  {
   "cell_type": "code",
   "execution_count": null,
   "metadata": {},
   "outputs": [],
   "source": [
    "num=train_df_3.dtypes[train_df_3.dtypes != \"object\"].index.tolist()"
   ]
  },
  {
   "cell_type": "code",
   "execution_count": null,
   "metadata": {},
   "outputs": [],
   "source": [
    "from sklearn.preprocessing import StandardScaler\n",
    "scaler = StandardScaler()\n",
    "train_df_3[num] = scaler.fit_transform(train_df_3[num])"
   ]
  },
  {
   "attachments": {},
   "cell_type": "markdown",
   "metadata": {},
   "source": [
    "다중공선성 확인"
   ]
  },
  {
   "cell_type": "code",
   "execution_count": null,
   "metadata": {},
   "outputs": [],
   "source": [
    "corr=train_df_3.corr(method='kendall')\n",
    "plt.figure(figsize=(20,20))\n",
    "sns.heatmap(corr,annot=True,cmap=\"Blues\")"
   ]
  },
  {
   "attachments": {},
   "cell_type": "markdown",
   "metadata": {},
   "source": [
    "# 2. 모델링"
   ]
  },
  {
   "attachments": {},
   "cell_type": "markdown",
   "metadata": {},
   "source": [
    "다중공선성 확인 및 변수 선택/차원 축소"
   ]
  },
  {
   "attachments": {},
   "cell_type": "markdown",
   "metadata": {},
   "source": [
    "# 3. 성능평가"
   ]
  }
 ],
 "metadata": {
  "kernelspec": {
   "display_name": "Python 3",
   "language": "python",
   "name": "python3"
  },
  "language_info": {
   "codemirror_mode": {
    "name": "ipython",
    "version": 3
   },
   "file_extension": ".py",
   "mimetype": "text/x-python",
   "name": "python",
   "nbconvert_exporter": "python",
   "pygments_lexer": "ipython3",
   "version": "3.10.2"
  },
  "orig_nbformat": 4,
  "vscode": {
   "interpreter": {
    "hash": "369f2c481f4da34e4445cda3fffd2e751bd1c4d706f27375911949ba6bb62e1c"
   }
  }
 },
 "nbformat": 4,
 "nbformat_minor": 2
}
