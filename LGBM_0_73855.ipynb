{
  "nbformat": 4,
  "nbformat_minor": 0,
  "metadata": {
    "colab": {
      "provenance": [],
      "machine_shape": "hm"
    },
    "kernelspec": {
      "name": "python3",
      "display_name": "Python 3"
    },
    "language_info": {
      "name": "python"
    },
    "accelerator": "GPU",
    "gpuClass": "premium"
  },
  "cells": [
    {
      "cell_type": "code",
      "execution_count": 2,
      "metadata": {
        "colab": {
          "base_uri": "https://localhost:8080/"
        },
        "id": "pMlsGUUoSJCw",
        "outputId": "f09dd579-1c3f-4cf7-e0f6-b6cbfc91a69a"
      },
      "outputs": [
        {
          "output_type": "stream",
          "name": "stdout",
          "text": [
            "Mounted at /content/drive\n",
            "Archive:  drive/MyDrive/kubig_ML/235713_신용카드 사용자 연체 예측 AI 경진대회_data.zip\n",
            "   creating: open/\n",
            "  inflating: open/train.csv          \n",
            "  inflating: open/sample_submission.csv  \n",
            "  inflating: open/test.csv           \n"
          ]
        }
      ],
      "source": [
        "import pandas as pd\n",
        "import numpy as np\n",
        "\n",
        "from google.colab import drive\n",
        "drive.mount('/content/drive')\n",
        "!unzip 'drive/MyDrive/kubig_ML/235713_신용카드 사용자 연체 예측 AI 경진대회_data.zip'\n",
        "\n"
      ]
    },
    {
      "cell_type": "code",
      "source": [
        "train=pd.read_csv('open/train.csv')\n",
        "test=pd.read_csv('open/test.csv')"
      ],
      "metadata": {
        "id": "OrdTWxDMZJCT"
      },
      "execution_count": 13,
      "outputs": []
    },
    {
      "cell_type": "markdown",
      "source": [
        "# 전처리 해본 것"
      ],
      "metadata": {
        "id": "ZtNftbE8gkVJ"
      }
    },
    {
      "cell_type": "code",
      "source": [
        "#완전히 중복되는 데이터 삭제\n",
        "train=train[~train.drop(columns=['credit','index','FLAG_MOBIL']).duplicated(keep='first')]\n",
        "\n",
        "# day_employed 양수값 0으로 변환\n",
        "train['DAYS_EMPLOYED'].loc[train['DAYS_EMPLOYED']>0]=0\n",
        "test['DAYS_EMPLOYED'].loc[test['DAYS_EMPLOYED']>0]=0\n",
        "train['occyp_type'].loc[(train['DAYS_EMPLOYED']==0)&(train['occyp_type'].isna())]='No job'\n",
        "train['occyp_type']=train['occyp_type'].fillna('Laborers')\n",
        "test['occyp_type'].loc[(test['DAYS_EMPLOYED']==0)&(test['occyp_type'].isna())]='No job'\n",
        "test['occyp_type']=test['occyp_type'].fillna('Laborers')\n",
        "\n",
        "\n",
        "# 성별 변수 인코딩\n",
        "train['gender']=train['gender'].replace(['M','F'],[1,0])\n",
        "train['car']=train['car'].replace(['Y','N'],[1,0])\n",
        "train['reality']=train['reality'].replace(['Y','N'],[1,0])\n",
        "\n",
        "train.drop(['index','FLAG_MOBIL'],axis=1,inplace=True)\n",
        "\n",
        "# 자녀유무 변수\n",
        "# train['kids']=0\n",
        "# train['kids'] = np.where(train['child_num'] !=0, 1, 0)\n",
        "# train.drop(['child_num'],axis=1,inplace=True)\n",
        "\n",
        "\n",
        "# 인코딩 > ordinalencoder로 바꿈\n",
        "from sklearn.preprocessing import LabelEncoder\n",
        "#cat=train.dtypes[train.dtypes==\"object\"].index.tolist()\n",
        "encoder = LabelEncoder()\n",
        "# train[cat] = encoder.fit_transform(train[cat],train['credit'])\n",
        "train['income_type'] = encoder.fit_transform(train['income_type'])\n",
        "test['income_type']=encoder.transform(test['income_type'])\n",
        "train['family_type'] = encoder.fit_transform(train['family_type'])\n",
        "test['family_type']=encoder.transform(test['family_type'])\n",
        "train['edu_type'] = encoder.fit_transform(train['edu_type'])\n",
        "test['edu_type']=encoder.transform(test['edu_type'])\n",
        "train['house_type'] = encoder.fit_transform(train['house_type'])\n",
        "test['house_type']=encoder.transform(test['house_type'])\n",
        "train['occyp_type'] = encoder.fit_transform(train['occyp_type'])\n",
        "test['occyp_type']=encoder.transform(test['occyp_type'])\n",
        "\n",
        "# family_size outlier 삭제\n",
        "train=train[(train['family_size']<15)]\n",
        "#train=train.reset_index(drop=True)\n",
        "\n",
        "train['income_total']=np.log1p(train['income_total'])\n",
        "# income_total, family_size 스케일링\n",
        "# from sklearn.preprocessing import RobustScaler\n",
        "# scaler3 = RobustScaler()\n",
        "# scale=['income_total','family_size']\n",
        "# train[scale] = scaler3.fit_transform(train[scale])\n",
        "# test[scale] = scaler3.transform(test[scale])\n"
      ],
      "metadata": {
        "colab": {
          "base_uri": "https://localhost:8080/"
        },
        "id": "smkFEiGog7oQ",
        "outputId": "7feb4a6f-96d5-420f-a443-f91edc1dad07"
      },
      "execution_count": 14,
      "outputs": [
        {
          "output_type": "stream",
          "name": "stderr",
          "text": [
            "/usr/local/lib/python3.8/dist-packages/pandas/core/indexing.py:1732: SettingWithCopyWarning: \n",
            "A value is trying to be set on a copy of a slice from a DataFrame\n",
            "\n",
            "See the caveats in the documentation: https://pandas.pydata.org/pandas-docs/stable/user_guide/indexing.html#returning-a-view-versus-a-copy\n",
            "  self._setitem_single_block(indexer, value, name)\n",
            "<ipython-input-14-6feb28d8283f>:11: SettingWithCopyWarning: \n",
            "A value is trying to be set on a copy of a slice from a DataFrame.\n",
            "Try using .loc[row_indexer,col_indexer] = value instead\n",
            "\n",
            "See the caveats in the documentation: https://pandas.pydata.org/pandas-docs/stable/user_guide/indexing.html#returning-a-view-versus-a-copy\n",
            "  train['occyp_type']=train['occyp_type'].fillna('Laborers')\n",
            "<ipython-input-14-6feb28d8283f>:22: SettingWithCopyWarning: \n",
            "A value is trying to be set on a copy of a slice from a DataFrame.\n",
            "Try using .loc[row_indexer,col_indexer] = value instead\n",
            "\n",
            "See the caveats in the documentation: https://pandas.pydata.org/pandas-docs/stable/user_guide/indexing.html#returning-a-view-versus-a-copy\n",
            "  train['gender']=train['gender'].replace(['M','F'],[1,0])\n",
            "<ipython-input-14-6feb28d8283f>:23: SettingWithCopyWarning: \n",
            "A value is trying to be set on a copy of a slice from a DataFrame.\n",
            "Try using .loc[row_indexer,col_indexer] = value instead\n",
            "\n",
            "See the caveats in the documentation: https://pandas.pydata.org/pandas-docs/stable/user_guide/indexing.html#returning-a-view-versus-a-copy\n",
            "  train['car']=train['car'].replace(['Y','N'],[1,0])\n",
            "<ipython-input-14-6feb28d8283f>:24: SettingWithCopyWarning: \n",
            "A value is trying to be set on a copy of a slice from a DataFrame.\n",
            "Try using .loc[row_indexer,col_indexer] = value instead\n",
            "\n",
            "See the caveats in the documentation: https://pandas.pydata.org/pandas-docs/stable/user_guide/indexing.html#returning-a-view-versus-a-copy\n",
            "  train['reality']=train['reality'].replace(['Y','N'],[1,0])\n",
            "/usr/local/lib/python3.8/dist-packages/pandas/core/frame.py:4906: SettingWithCopyWarning: \n",
            "A value is trying to be set on a copy of a slice from a DataFrame\n",
            "\n",
            "See the caveats in the documentation: https://pandas.pydata.org/pandas-docs/stable/user_guide/indexing.html#returning-a-view-versus-a-copy\n",
            "  return super().drop(\n",
            "<ipython-input-14-6feb28d8283f>:39: SettingWithCopyWarning: \n",
            "A value is trying to be set on a copy of a slice from a DataFrame.\n",
            "Try using .loc[row_indexer,col_indexer] = value instead\n",
            "\n",
            "See the caveats in the documentation: https://pandas.pydata.org/pandas-docs/stable/user_guide/indexing.html#returning-a-view-versus-a-copy\n",
            "  train['income_type'] = encoder.fit_transform(train['income_type'])\n",
            "<ipython-input-14-6feb28d8283f>:41: SettingWithCopyWarning: \n",
            "A value is trying to be set on a copy of a slice from a DataFrame.\n",
            "Try using .loc[row_indexer,col_indexer] = value instead\n",
            "\n",
            "See the caveats in the documentation: https://pandas.pydata.org/pandas-docs/stable/user_guide/indexing.html#returning-a-view-versus-a-copy\n",
            "  train['family_type'] = encoder.fit_transform(train['family_type'])\n",
            "<ipython-input-14-6feb28d8283f>:43: SettingWithCopyWarning: \n",
            "A value is trying to be set on a copy of a slice from a DataFrame.\n",
            "Try using .loc[row_indexer,col_indexer] = value instead\n",
            "\n",
            "See the caveats in the documentation: https://pandas.pydata.org/pandas-docs/stable/user_guide/indexing.html#returning-a-view-versus-a-copy\n",
            "  train['edu_type'] = encoder.fit_transform(train['edu_type'])\n",
            "<ipython-input-14-6feb28d8283f>:45: SettingWithCopyWarning: \n",
            "A value is trying to be set on a copy of a slice from a DataFrame.\n",
            "Try using .loc[row_indexer,col_indexer] = value instead\n",
            "\n",
            "See the caveats in the documentation: https://pandas.pydata.org/pandas-docs/stable/user_guide/indexing.html#returning-a-view-versus-a-copy\n",
            "  train['house_type'] = encoder.fit_transform(train['house_type'])\n",
            "<ipython-input-14-6feb28d8283f>:47: SettingWithCopyWarning: \n",
            "A value is trying to be set on a copy of a slice from a DataFrame.\n",
            "Try using .loc[row_indexer,col_indexer] = value instead\n",
            "\n",
            "See the caveats in the documentation: https://pandas.pydata.org/pandas-docs/stable/user_guide/indexing.html#returning-a-view-versus-a-copy\n",
            "  train['occyp_type'] = encoder.fit_transform(train['occyp_type'])\n",
            "<ipython-input-14-6feb28d8283f>:54: SettingWithCopyWarning: \n",
            "A value is trying to be set on a copy of a slice from a DataFrame.\n",
            "Try using .loc[row_indexer,col_indexer] = value instead\n",
            "\n",
            "See the caveats in the documentation: https://pandas.pydata.org/pandas-docs/stable/user_guide/indexing.html#returning-a-view-versus-a-copy\n",
            "  train['income_total']=np.log1p(train['income_total'])\n"
          ]
        }
      ]
    },
    {
      "cell_type": "markdown",
      "source": [
        "# Test 제출용"
      ],
      "metadata": {
        "id": "JzXsEnDHnc4B"
      }
    },
    {
      "cell_type": "markdown",
      "source": [
        "## test 전처리"
      ],
      "metadata": {
        "id": "ElGko-UCFUYM"
      }
    },
    {
      "cell_type": "code",
      "source": [
        "\n",
        "\n",
        "# 'gender','car','reality' 0,1로 encoding\n",
        "test['gender']=test['gender'].replace(['M','F'],[1,0])\n",
        "test['car']=test['car'].replace(['Y','N'],[1,0])\n",
        "test['reality']=test['reality'].replace(['Y','N'],[1,0])\n",
        "\n",
        "index=test['index'] # 나중에 index 쓸 것이라서 저장\n",
        "\n",
        "#'FLAG_MOBIL','index' drop\n",
        "test.drop(['index','FLAG_MOBIL'],axis=1,inplace=True)\n",
        "\n",
        "# 자식 유무 변수 'kids' 추가 후 'child_num' drop\n",
        "# test['kids']=0\n",
        "# test['kids'] = np.where(test['child_num'] !=0, 1, 0)\n",
        "# test.drop(['child_num'],axis=1,inplace=True)\n",
        "\n",
        "test['income_total']=np.log1p(test['income_total'])\n",
        "\n"
      ],
      "metadata": {
        "id": "PacY4irWnZug"
      },
      "execution_count": 15,
      "outputs": []
    },
    {
      "cell_type": "code",
      "source": [
        "# train data X,y 만들어주기\n",
        "X_train=train.drop(columns='credit')\n",
        "y_train=train['credit']"
      ],
      "metadata": {
        "id": "xShNAj2DCAvs"
      },
      "execution_count": 16,
      "outputs": []
    },
    {
      "cell_type": "code",
      "source": [
        "from lightgbm import LGBMClassifier\n",
        "model_lgbc = LGBMClassifier(n_estimators=450, max_depth=10,\n",
        "                            colsample_bytree=1, min_child_weight=3, subsample=0.001, \n",
        "                            random_state=2)\n",
        "#model_lgbc=LGBMClassifier()\n",
        "model_lgbc.fit(X_train, y_train)\n",
        "\n",
        "y_pred=model_lgbc.predict_proba(test)"
      ],
      "metadata": {
        "id": "r0rGjJ5XomUl"
      },
      "execution_count": 17,
      "outputs": []
    },
    {
      "cell_type": "code",
      "source": [
        "y_pred"
      ],
      "metadata": {
        "colab": {
          "base_uri": "https://localhost:8080/"
        },
        "id": "toGWk5E2BggP",
        "outputId": "c0799e97-bff4-4471-f5f6-29fbce5edf2a"
      },
      "execution_count": 18,
      "outputs": [
        {
          "output_type": "execute_result",
          "data": {
            "text/plain": [
              "array([[0.05901116, 0.12468991, 0.81629893],\n",
              "       [0.1814972 , 0.14985057, 0.66865222],\n",
              "       [0.04793127, 0.07975212, 0.87231661],\n",
              "       ...,\n",
              "       [0.03866556, 0.10307931, 0.85825513],\n",
              "       [0.14930303, 0.18979863, 0.66089833],\n",
              "       [0.03469967, 0.22201035, 0.74328998]])"
            ]
          },
          "metadata": {},
          "execution_count": 18
        }
      ]
    },
    {
      "cell_type": "code",
      "source": [
        "y_pred_df=pd.DataFrame(y_pred)"
      ],
      "metadata": {
        "id": "omkz6y3OGgrQ"
      },
      "execution_count": 19,
      "outputs": []
    },
    {
      "cell_type": "code",
      "source": [
        "y_pred_df=pd.concat([index,y_pred_df],axis=1)\n",
        "y_pred_df.to_csv('final2_submission.csv',index = False)"
      ],
      "metadata": {
        "id": "fBRjbNPV8kFL"
      },
      "execution_count": 20,
      "outputs": []
    }
  ]
}